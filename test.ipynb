{
 "cells": [
  {
   "cell_type": "code",
   "execution_count": 1,
   "id": "8fd874f5",
   "metadata": {},
   "outputs": [],
   "source": [
    "from dataclasses import dataclass\n",
    "\n",
    "from textlasso import extract, generate_structured_prompt, structured_output"
   ]
  },
  {
   "cell_type": "code",
   "execution_count": 2,
   "id": "c0db0464",
   "metadata": {},
   "outputs": [
    {
     "name": "stderr",
     "output_type": "stream",
     "text": [
      "2025-07-25 23:53:08,107 - textlasso._extractors.DataclassConverter - INFO - DataclassConverter initialized with strict_mode=True\n",
      "2025-07-25 23:53:08,108 - textlasso._extractors.DataclassConverter - INFO - Starting conversion to UserResponse\n",
      "2025-07-25 23:53:08,109 - textlasso._extractors.DataclassConverter - INFO - Successfully converted to UserResponse\n"
     ]
    },
    {
     "data": {
      "text/plain": [
       "UserResponse(user=User(name='John', age=30))"
      ]
     },
     "execution_count": 2,
     "metadata": {},
     "output_type": "execute_result"
    }
   ],
   "source": [
    "text_json = \"\"\"\n",
    "{\n",
    "    \"user\": {\n",
    "        \"name\": \"John\",\n",
    "        \"age\": 30\n",
    "    }\n",
    "}\n",
    "\"\"\"\n",
    "\n",
    "\n",
    "text_xml = \"\"\"\n",
    "<user>\n",
    "    <name>John</name>\n",
    "    <age>30</age>\n",
    "</user>\n",
    "\"\"\"\n",
    "\n",
    "@dataclass\n",
    "class User:\n",
    "    name: str\n",
    "    age: int\n",
    "\n",
    "@dataclass\n",
    "class UserResponse:\n",
    "    user: User\n",
    "    \n",
    "extract(text=text_json, extract_strategy='json')\n",
    "extract(text=text_xml, target_class=UserResponse, extract_strategy='xml')\n"
   ]
  },
  {
   "cell_type": "code",
   "execution_count": 5,
   "id": "e473e5a9",
   "metadata": {},
   "outputs": [],
   "source": [
    "@structured_output(UserResponse, 'json')\n",
    "def get_user_prompt():\n",
    "    return \"Generate me a random user data. \"\n",
    "\n"
   ]
  },
  {
   "cell_type": "code",
   "execution_count": 6,
   "id": "ccf4fc8c",
   "metadata": {},
   "outputs": [
    {
     "data": {
      "text/plain": [
       "'Generate me a random user data. \\n\\n\\n## OUTPUT FORMAT REQUIREMENTS\\n\\nYou must respond with a valid JSON object that follows this exact structure:\\n\\n### Schema: UserResponse\\n- **user**: Object (User) (required)\\n  Fields:\\n    - **name**: str (required)\\n    - **age**: int (required)\\n\\n\\n### JSON Format Rules:\\n- Use proper JSON syntax with double quotes for strings\\n- Include all required fields\\n- Use null for optional fields that are not provided\\n- Arrays should contain objects matching the specified structure\\n- Numbers should not be quoted\\n- Booleans should be true/false (not quoted)\\n\\n\\n## EXAMPLES\\n\\nHere are 2 examples of the expected JSON format:\\n\\n### Example 1:\\n```json\\n{\\n  \"user\": {\\n    \"name\": \"Alice Johnson\",\\n    \"age\": 25\\n  }\\n}\\n```\\n\\n### Example 2:\\n```json\\n{\\n  \"user\": {\\n    \"name\": \"Bob Smith\",\\n    \"age\": 30\\n  }\\n}\\n```\\n\\n\\nRemember: Your response must be valid JSON that matches the specified structure exactly.'"
      ]
     },
     "execution_count": 6,
     "metadata": {},
     "output_type": "execute_result"
    }
   ],
   "source": [
    "get_user_prompt()"
   ]
  },
  {
   "cell_type": "code",
   "execution_count": null,
   "id": "09aec1a7",
   "metadata": {},
   "outputs": [],
   "source": []
  },
  {
   "cell_type": "code",
   "execution_count": null,
   "id": "2ec15417",
   "metadata": {},
   "outputs": [],
   "source": []
  }
 ],
 "metadata": {
  "kernelspec": {
   "display_name": "textlasso",
   "language": "python",
   "name": "python3"
  },
  "language_info": {
   "codemirror_mode": {
    "name": "ipython",
    "version": 3
   },
   "file_extension": ".py",
   "mimetype": "text/x-python",
   "name": "python",
   "nbconvert_exporter": "python",
   "pygments_lexer": "ipython3",
   "version": "3.12.3"
  }
 },
 "nbformat": 4,
 "nbformat_minor": 5
}
